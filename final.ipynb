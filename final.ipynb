{
  "nbformat": 4,
  "nbformat_minor": 0,
  "metadata": {
    "accelerator": "GPU",
    "colab": {
      "name": "final.ipynb",
      "provenance": [],
      "collapsed_sections": [],
      "toc_visible": true
    },
    "kernelspec": {
      "display_name": "Python 3",
      "language": "python",
      "name": "python3"
    },
    "language_info": {
      "codemirror_mode": {
        "name": "ipython",
        "version": 3
      },
      "file_extension": ".py",
      "mimetype": "text/x-python",
      "name": "python",
      "nbconvert_exporter": "python",
      "pygments_lexer": "ipython3",
      "version": "3.6.1"
    },
    "widgets": {
      "application/vnd.jupyter.widget-state+json": {
        "df4395d0701a4dc392053f8942e75961": {
          "model_module": "@jupyter-widgets/controls",
          "model_name": "HBoxModel",
          "state": {
            "_view_name": "HBoxView",
            "_dom_classes": [],
            "_model_name": "HBoxModel",
            "_view_module": "@jupyter-widgets/controls",
            "_model_module_version": "1.5.0",
            "_view_count": null,
            "_view_module_version": "1.5.0",
            "box_style": "",
            "layout": "IPY_MODEL_7f11074be1ca421d9e8c839643f5388c",
            "_model_module": "@jupyter-widgets/controls",
            "children": [
              "IPY_MODEL_91c5809c971d4e9fa7f016430c977ec4",
              "IPY_MODEL_262f21da18034e20a0ea80aac51b1362"
            ]
          }
        },
        "7f11074be1ca421d9e8c839643f5388c": {
          "model_module": "@jupyter-widgets/base",
          "model_name": "LayoutModel",
          "state": {
            "_view_name": "LayoutView",
            "grid_template_rows": null,
            "right": null,
            "justify_content": null,
            "_view_module": "@jupyter-widgets/base",
            "overflow": null,
            "_model_module_version": "1.2.0",
            "_view_count": null,
            "flex_flow": null,
            "width": null,
            "min_width": null,
            "border": null,
            "align_items": null,
            "bottom": null,
            "_model_module": "@jupyter-widgets/base",
            "top": null,
            "grid_column": null,
            "overflow_y": null,
            "overflow_x": null,
            "grid_auto_flow": null,
            "grid_area": null,
            "grid_template_columns": null,
            "flex": null,
            "_model_name": "LayoutModel",
            "justify_items": null,
            "grid_row": null,
            "max_height": null,
            "align_content": null,
            "visibility": null,
            "align_self": null,
            "height": null,
            "min_height": null,
            "padding": null,
            "grid_auto_rows": null,
            "grid_gap": null,
            "max_width": null,
            "order": null,
            "_view_module_version": "1.2.0",
            "grid_template_areas": null,
            "object_position": null,
            "object_fit": null,
            "grid_auto_columns": null,
            "margin": null,
            "display": null,
            "left": null
          }
        },
        "91c5809c971d4e9fa7f016430c977ec4": {
          "model_module": "@jupyter-widgets/controls",
          "model_name": "FloatProgressModel",
          "state": {
            "_view_name": "ProgressView",
            "style": "IPY_MODEL_5e8476a5591a4555a795c589d691a7b8",
            "_dom_classes": [],
            "description": "100%",
            "_model_name": "FloatProgressModel",
            "bar_style": "success",
            "max": 10712,
            "_view_module": "@jupyter-widgets/controls",
            "_model_module_version": "1.5.0",
            "value": 10712,
            "_view_count": null,
            "_view_module_version": "1.5.0",
            "orientation": "horizontal",
            "min": 0,
            "description_tooltip": null,
            "_model_module": "@jupyter-widgets/controls",
            "layout": "IPY_MODEL_cdbe7afd399e440795692e7475ccad6b"
          }
        },
        "262f21da18034e20a0ea80aac51b1362": {
          "model_module": "@jupyter-widgets/controls",
          "model_name": "HTMLModel",
          "state": {
            "_view_name": "HTMLView",
            "style": "IPY_MODEL_ef94c66cfbd64d9096dccdc648fed49c",
            "_dom_classes": [],
            "description": "",
            "_model_name": "HTMLModel",
            "placeholder": "​",
            "_view_module": "@jupyter-widgets/controls",
            "_model_module_version": "1.5.0",
            "value": " 10712/10712 [01:22&lt;00:00, 130.05it/s]",
            "_view_count": null,
            "_view_module_version": "1.5.0",
            "description_tooltip": null,
            "_model_module": "@jupyter-widgets/controls",
            "layout": "IPY_MODEL_111af98a846942a697eb18fdb587d53e"
          }
        },
        "5e8476a5591a4555a795c589d691a7b8": {
          "model_module": "@jupyter-widgets/controls",
          "model_name": "ProgressStyleModel",
          "state": {
            "_view_name": "StyleView",
            "_model_name": "ProgressStyleModel",
            "description_width": "initial",
            "_view_module": "@jupyter-widgets/base",
            "_model_module_version": "1.5.0",
            "_view_count": null,
            "_view_module_version": "1.2.0",
            "bar_color": null,
            "_model_module": "@jupyter-widgets/controls"
          }
        },
        "cdbe7afd399e440795692e7475ccad6b": {
          "model_module": "@jupyter-widgets/base",
          "model_name": "LayoutModel",
          "state": {
            "_view_name": "LayoutView",
            "grid_template_rows": null,
            "right": null,
            "justify_content": null,
            "_view_module": "@jupyter-widgets/base",
            "overflow": null,
            "_model_module_version": "1.2.0",
            "_view_count": null,
            "flex_flow": null,
            "width": null,
            "min_width": null,
            "border": null,
            "align_items": null,
            "bottom": null,
            "_model_module": "@jupyter-widgets/base",
            "top": null,
            "grid_column": null,
            "overflow_y": null,
            "overflow_x": null,
            "grid_auto_flow": null,
            "grid_area": null,
            "grid_template_columns": null,
            "flex": null,
            "_model_name": "LayoutModel",
            "justify_items": null,
            "grid_row": null,
            "max_height": null,
            "align_content": null,
            "visibility": null,
            "align_self": null,
            "height": null,
            "min_height": null,
            "padding": null,
            "grid_auto_rows": null,
            "grid_gap": null,
            "max_width": null,
            "order": null,
            "_view_module_version": "1.2.0",
            "grid_template_areas": null,
            "object_position": null,
            "object_fit": null,
            "grid_auto_columns": null,
            "margin": null,
            "display": null,
            "left": null
          }
        },
        "ef94c66cfbd64d9096dccdc648fed49c": {
          "model_module": "@jupyter-widgets/controls",
          "model_name": "DescriptionStyleModel",
          "state": {
            "_view_name": "StyleView",
            "_model_name": "DescriptionStyleModel",
            "description_width": "",
            "_view_module": "@jupyter-widgets/base",
            "_model_module_version": "1.5.0",
            "_view_count": null,
            "_view_module_version": "1.2.0",
            "_model_module": "@jupyter-widgets/controls"
          }
        },
        "111af98a846942a697eb18fdb587d53e": {
          "model_module": "@jupyter-widgets/base",
          "model_name": "LayoutModel",
          "state": {
            "_view_name": "LayoutView",
            "grid_template_rows": null,
            "right": null,
            "justify_content": null,
            "_view_module": "@jupyter-widgets/base",
            "overflow": null,
            "_model_module_version": "1.2.0",
            "_view_count": null,
            "flex_flow": null,
            "width": null,
            "min_width": null,
            "border": null,
            "align_items": null,
            "bottom": null,
            "_model_module": "@jupyter-widgets/base",
            "top": null,
            "grid_column": null,
            "overflow_y": null,
            "overflow_x": null,
            "grid_auto_flow": null,
            "grid_area": null,
            "grid_template_columns": null,
            "flex": null,
            "_model_name": "LayoutModel",
            "justify_items": null,
            "grid_row": null,
            "max_height": null,
            "align_content": null,
            "visibility": null,
            "align_self": null,
            "height": null,
            "min_height": null,
            "padding": null,
            "grid_auto_rows": null,
            "grid_gap": null,
            "max_width": null,
            "order": null,
            "_view_module_version": "1.2.0",
            "grid_template_areas": null,
            "object_position": null,
            "object_fit": null,
            "grid_auto_columns": null,
            "margin": null,
            "display": null,
            "left": null
          }
        },
        "fc0331122fdf42eb8627573b5602fcba": {
          "model_module": "@jupyter-widgets/controls",
          "model_name": "HBoxModel",
          "state": {
            "_view_name": "HBoxView",
            "_dom_classes": [],
            "_model_name": "HBoxModel",
            "_view_module": "@jupyter-widgets/controls",
            "_model_module_version": "1.5.0",
            "_view_count": null,
            "_view_module_version": "1.5.0",
            "box_style": "",
            "layout": "IPY_MODEL_3e55e66764b9402a9358933b8f8d9c4d",
            "_model_module": "@jupyter-widgets/controls",
            "children": [
              "IPY_MODEL_a6167fe6324d48ce94a0c64c67cf0c7f",
              "IPY_MODEL_6da821f5fd8840468f0d6c95d23c7c87"
            ]
          }
        },
        "3e55e66764b9402a9358933b8f8d9c4d": {
          "model_module": "@jupyter-widgets/base",
          "model_name": "LayoutModel",
          "state": {
            "_view_name": "LayoutView",
            "grid_template_rows": null,
            "right": null,
            "justify_content": null,
            "_view_module": "@jupyter-widgets/base",
            "overflow": null,
            "_model_module_version": "1.2.0",
            "_view_count": null,
            "flex_flow": null,
            "width": null,
            "min_width": null,
            "border": null,
            "align_items": null,
            "bottom": null,
            "_model_module": "@jupyter-widgets/base",
            "top": null,
            "grid_column": null,
            "overflow_y": null,
            "overflow_x": null,
            "grid_auto_flow": null,
            "grid_area": null,
            "grid_template_columns": null,
            "flex": null,
            "_model_name": "LayoutModel",
            "justify_items": null,
            "grid_row": null,
            "max_height": null,
            "align_content": null,
            "visibility": null,
            "align_self": null,
            "height": null,
            "min_height": null,
            "padding": null,
            "grid_auto_rows": null,
            "grid_gap": null,
            "max_width": null,
            "order": null,
            "_view_module_version": "1.2.0",
            "grid_template_areas": null,
            "object_position": null,
            "object_fit": null,
            "grid_auto_columns": null,
            "margin": null,
            "display": null,
            "left": null
          }
        },
        "a6167fe6324d48ce94a0c64c67cf0c7f": {
          "model_module": "@jupyter-widgets/controls",
          "model_name": "FloatProgressModel",
          "state": {
            "_view_name": "ProgressView",
            "style": "IPY_MODEL_a98eb5215fa74efab808a8024d4780e0",
            "_dom_classes": [],
            "description": "100%",
            "_model_name": "FloatProgressModel",
            "bar_style": "success",
            "max": 10675,
            "_view_module": "@jupyter-widgets/controls",
            "_model_module_version": "1.5.0",
            "value": 10675,
            "_view_count": null,
            "_view_module_version": "1.5.0",
            "orientation": "horizontal",
            "min": 0,
            "description_tooltip": null,
            "_model_module": "@jupyter-widgets/controls",
            "layout": "IPY_MODEL_01d6c314f0554e988c533b20ca98620f"
          }
        },
        "6da821f5fd8840468f0d6c95d23c7c87": {
          "model_module": "@jupyter-widgets/controls",
          "model_name": "HTMLModel",
          "state": {
            "_view_name": "HTMLView",
            "style": "IPY_MODEL_00ef13d35b07486fb61ac68aac8b5db6",
            "_dom_classes": [],
            "description": "",
            "_model_name": "HTMLModel",
            "placeholder": "​",
            "_view_module": "@jupyter-widgets/controls",
            "_model_module_version": "1.5.0",
            "value": " 10675/10675 [00:23&lt;00:00, 451.02it/s]",
            "_view_count": null,
            "_view_module_version": "1.5.0",
            "description_tooltip": null,
            "_model_module": "@jupyter-widgets/controls",
            "layout": "IPY_MODEL_9721c147a9c84d04b9020c8cd57da83b"
          }
        },
        "a98eb5215fa74efab808a8024d4780e0": {
          "model_module": "@jupyter-widgets/controls",
          "model_name": "ProgressStyleModel",
          "state": {
            "_view_name": "StyleView",
            "_model_name": "ProgressStyleModel",
            "description_width": "initial",
            "_view_module": "@jupyter-widgets/base",
            "_model_module_version": "1.5.0",
            "_view_count": null,
            "_view_module_version": "1.2.0",
            "bar_color": null,
            "_model_module": "@jupyter-widgets/controls"
          }
        },
        "01d6c314f0554e988c533b20ca98620f": {
          "model_module": "@jupyter-widgets/base",
          "model_name": "LayoutModel",
          "state": {
            "_view_name": "LayoutView",
            "grid_template_rows": null,
            "right": null,
            "justify_content": null,
            "_view_module": "@jupyter-widgets/base",
            "overflow": null,
            "_model_module_version": "1.2.0",
            "_view_count": null,
            "flex_flow": null,
            "width": null,
            "min_width": null,
            "border": null,
            "align_items": null,
            "bottom": null,
            "_model_module": "@jupyter-widgets/base",
            "top": null,
            "grid_column": null,
            "overflow_y": null,
            "overflow_x": null,
            "grid_auto_flow": null,
            "grid_area": null,
            "grid_template_columns": null,
            "flex": null,
            "_model_name": "LayoutModel",
            "justify_items": null,
            "grid_row": null,
            "max_height": null,
            "align_content": null,
            "visibility": null,
            "align_self": null,
            "height": null,
            "min_height": null,
            "padding": null,
            "grid_auto_rows": null,
            "grid_gap": null,
            "max_width": null,
            "order": null,
            "_view_module_version": "1.2.0",
            "grid_template_areas": null,
            "object_position": null,
            "object_fit": null,
            "grid_auto_columns": null,
            "margin": null,
            "display": null,
            "left": null
          }
        },
        "00ef13d35b07486fb61ac68aac8b5db6": {
          "model_module": "@jupyter-widgets/controls",
          "model_name": "DescriptionStyleModel",
          "state": {
            "_view_name": "StyleView",
            "_model_name": "DescriptionStyleModel",
            "description_width": "",
            "_view_module": "@jupyter-widgets/base",
            "_model_module_version": "1.5.0",
            "_view_count": null,
            "_view_module_version": "1.2.0",
            "_model_module": "@jupyter-widgets/controls"
          }
        },
        "9721c147a9c84d04b9020c8cd57da83b": {
          "model_module": "@jupyter-widgets/base",
          "model_name": "LayoutModel",
          "state": {
            "_view_name": "LayoutView",
            "grid_template_rows": null,
            "right": null,
            "justify_content": null,
            "_view_module": "@jupyter-widgets/base",
            "overflow": null,
            "_model_module_version": "1.2.0",
            "_view_count": null,
            "flex_flow": null,
            "width": null,
            "min_width": null,
            "border": null,
            "align_items": null,
            "bottom": null,
            "_model_module": "@jupyter-widgets/base",
            "top": null,
            "grid_column": null,
            "overflow_y": null,
            "overflow_x": null,
            "grid_auto_flow": null,
            "grid_area": null,
            "grid_template_columns": null,
            "flex": null,
            "_model_name": "LayoutModel",
            "justify_items": null,
            "grid_row": null,
            "max_height": null,
            "align_content": null,
            "visibility": null,
            "align_self": null,
            "height": null,
            "min_height": null,
            "padding": null,
            "grid_auto_rows": null,
            "grid_gap": null,
            "max_width": null,
            "order": null,
            "_view_module_version": "1.2.0",
            "grid_template_areas": null,
            "object_position": null,
            "object_fit": null,
            "grid_auto_columns": null,
            "margin": null,
            "display": null,
            "left": null
          }
        },
        "25f61fdcb94c4d16b18b755f441a6340": {
          "model_module": "@jupyter-widgets/controls",
          "model_name": "HBoxModel",
          "state": {
            "_view_name": "HBoxView",
            "_dom_classes": [],
            "_model_name": "HBoxModel",
            "_view_module": "@jupyter-widgets/controls",
            "_model_module_version": "1.5.0",
            "_view_count": null,
            "_view_module_version": "1.5.0",
            "box_style": "",
            "layout": "IPY_MODEL_19b9c6c77f1d44ce99f524e633d59ed6",
            "_model_module": "@jupyter-widgets/controls",
            "children": [
              "IPY_MODEL_52d36ced702a42e5a65abdd10bc1cebf",
              "IPY_MODEL_9a7378692d0d4d27a66c15b9a30e4433"
            ]
          }
        },
        "19b9c6c77f1d44ce99f524e633d59ed6": {
          "model_module": "@jupyter-widgets/base",
          "model_name": "LayoutModel",
          "state": {
            "_view_name": "LayoutView",
            "grid_template_rows": null,
            "right": null,
            "justify_content": null,
            "_view_module": "@jupyter-widgets/base",
            "overflow": null,
            "_model_module_version": "1.2.0",
            "_view_count": null,
            "flex_flow": null,
            "width": null,
            "min_width": null,
            "border": null,
            "align_items": null,
            "bottom": null,
            "_model_module": "@jupyter-widgets/base",
            "top": null,
            "grid_column": null,
            "overflow_y": null,
            "overflow_x": null,
            "grid_auto_flow": null,
            "grid_area": null,
            "grid_template_columns": null,
            "flex": null,
            "_model_name": "LayoutModel",
            "justify_items": null,
            "grid_row": null,
            "max_height": null,
            "align_content": null,
            "visibility": null,
            "align_self": null,
            "height": null,
            "min_height": null,
            "padding": null,
            "grid_auto_rows": null,
            "grid_gap": null,
            "max_width": null,
            "order": null,
            "_view_module_version": "1.2.0",
            "grid_template_areas": null,
            "object_position": null,
            "object_fit": null,
            "grid_auto_columns": null,
            "margin": null,
            "display": null,
            "left": null
          }
        },
        "52d36ced702a42e5a65abdd10bc1cebf": {
          "model_module": "@jupyter-widgets/controls",
          "model_name": "FloatProgressModel",
          "state": {
            "_view_name": "ProgressView",
            "style": "IPY_MODEL_717d23b71770494d95e50d7ad0978211",
            "_dom_classes": [],
            "description": "100%",
            "_model_name": "FloatProgressModel",
            "bar_style": "success",
            "max": 2134,
            "_view_module": "@jupyter-widgets/controls",
            "_model_module_version": "1.5.0",
            "value": 2134,
            "_view_count": null,
            "_view_module_version": "1.5.0",
            "orientation": "horizontal",
            "min": 0,
            "description_tooltip": null,
            "_model_module": "@jupyter-widgets/controls",
            "layout": "IPY_MODEL_c54dd1fb00f34e49805b7df6c6252410"
          }
        },
        "9a7378692d0d4d27a66c15b9a30e4433": {
          "model_module": "@jupyter-widgets/controls",
          "model_name": "HTMLModel",
          "state": {
            "_view_name": "HTMLView",
            "style": "IPY_MODEL_63de0e5d4c0a434b8d214966a286aea4",
            "_dom_classes": [],
            "description": "",
            "_model_name": "HTMLModel",
            "placeholder": "​",
            "_view_module": "@jupyter-widgets/controls",
            "_model_module_version": "1.5.0",
            "value": " 2134/2134 [05:27&lt;00:00,  6.51it/s]",
            "_view_count": null,
            "_view_module_version": "1.5.0",
            "description_tooltip": null,
            "_model_module": "@jupyter-widgets/controls",
            "layout": "IPY_MODEL_f5ffe72eed1941b8b7c2df185e4aa761"
          }
        },
        "717d23b71770494d95e50d7ad0978211": {
          "model_module": "@jupyter-widgets/controls",
          "model_name": "ProgressStyleModel",
          "state": {
            "_view_name": "StyleView",
            "_model_name": "ProgressStyleModel",
            "description_width": "initial",
            "_view_module": "@jupyter-widgets/base",
            "_model_module_version": "1.5.0",
            "_view_count": null,
            "_view_module_version": "1.2.0",
            "bar_color": null,
            "_model_module": "@jupyter-widgets/controls"
          }
        },
        "c54dd1fb00f34e49805b7df6c6252410": {
          "model_module": "@jupyter-widgets/base",
          "model_name": "LayoutModel",
          "state": {
            "_view_name": "LayoutView",
            "grid_template_rows": null,
            "right": null,
            "justify_content": null,
            "_view_module": "@jupyter-widgets/base",
            "overflow": null,
            "_model_module_version": "1.2.0",
            "_view_count": null,
            "flex_flow": null,
            "width": null,
            "min_width": null,
            "border": null,
            "align_items": null,
            "bottom": null,
            "_model_module": "@jupyter-widgets/base",
            "top": null,
            "grid_column": null,
            "overflow_y": null,
            "overflow_x": null,
            "grid_auto_flow": null,
            "grid_area": null,
            "grid_template_columns": null,
            "flex": null,
            "_model_name": "LayoutModel",
            "justify_items": null,
            "grid_row": null,
            "max_height": null,
            "align_content": null,
            "visibility": null,
            "align_self": null,
            "height": null,
            "min_height": null,
            "padding": null,
            "grid_auto_rows": null,
            "grid_gap": null,
            "max_width": null,
            "order": null,
            "_view_module_version": "1.2.0",
            "grid_template_areas": null,
            "object_position": null,
            "object_fit": null,
            "grid_auto_columns": null,
            "margin": null,
            "display": null,
            "left": null
          }
        },
        "63de0e5d4c0a434b8d214966a286aea4": {
          "model_module": "@jupyter-widgets/controls",
          "model_name": "DescriptionStyleModel",
          "state": {
            "_view_name": "StyleView",
            "_model_name": "DescriptionStyleModel",
            "description_width": "",
            "_view_module": "@jupyter-widgets/base",
            "_model_module_version": "1.5.0",
            "_view_count": null,
            "_view_module_version": "1.2.0",
            "_model_module": "@jupyter-widgets/controls"
          }
        },
        "f5ffe72eed1941b8b7c2df185e4aa761": {
          "model_module": "@jupyter-widgets/base",
          "model_name": "LayoutModel",
          "state": {
            "_view_name": "LayoutView",
            "grid_template_rows": null,
            "right": null,
            "justify_content": null,
            "_view_module": "@jupyter-widgets/base",
            "overflow": null,
            "_model_module_version": "1.2.0",
            "_view_count": null,
            "flex_flow": null,
            "width": null,
            "min_width": null,
            "border": null,
            "align_items": null,
            "bottom": null,
            "_model_module": "@jupyter-widgets/base",
            "top": null,
            "grid_column": null,
            "overflow_y": null,
            "overflow_x": null,
            "grid_auto_flow": null,
            "grid_area": null,
            "grid_template_columns": null,
            "flex": null,
            "_model_name": "LayoutModel",
            "justify_items": null,
            "grid_row": null,
            "max_height": null,
            "align_content": null,
            "visibility": null,
            "align_self": null,
            "height": null,
            "min_height": null,
            "padding": null,
            "grid_auto_rows": null,
            "grid_gap": null,
            "max_width": null,
            "order": null,
            "_view_module_version": "1.2.0",
            "grid_template_areas": null,
            "object_position": null,
            "object_fit": null,
            "grid_auto_columns": null,
            "margin": null,
            "display": null,
            "left": null
          }
        }
      }
    }
  },
  "cells": [
    {
      "cell_type": "markdown",
      "metadata": {
        "id": "Dc8b22t4YIck"
      },
      "source": [
        "## Defining custom metric"
      ]
    },
    {
      "cell_type": "code",
      "metadata": {
        "id": "TNs5OS_xMKcC"
      },
      "source": [
        "import keras.backend as K\n",
        "def dice_coef(y_true, y_pred, smooth=1):\n",
        "    y_true_f = K.flatten(y_true)\n",
        "    y_pred_f = K.flatten(y_pred)\n",
        "    intersection = K.sum(y_true_f * y_pred_f)\n",
        "    return (2. * intersection + smooth) / (K.sum(y_true_f) + K.sum(y_pred_f) + smooth)"
      ],
      "execution_count": 4,
      "outputs": []
    },
    {
      "cell_type": "markdown",
      "metadata": {
        "id": "Q7wKGjy9X6S6"
      },
      "source": [
        "## Preparing data to pass into the final functions"
      ]
    },
    {
      "cell_type": "code",
      "metadata": {
        "id": "t-vTqfGaq8lo"
      },
      "source": [
        "import warnings\n",
        "warnings.filterwarnings(\"ignore\")\n",
        "import matplotlib.pyplot as plt\n",
        "import random\n",
        "from PIL import Image\n",
        "import seaborn as sns\n",
        "import numpy as np\n",
        "import re\n",
        "import datetime as dt\n",
        "from datetime import datetime\n",
        "import mask_functions\n",
        "import pydicom as dicom\n",
        "from tqdm.notebook import tqdm\n",
        "from glob import glob\n",
        "import pandas as pd\n",
        "import tensorflow_io as tfio\n",
        "import tensorflow as tf\n",
        "from keras.models import load_model\n",
        "import time\n",
        "import logging, os\n",
        "logging.disable(logging.WARNING)\n",
        "os.environ[\"TF_CPP_MIN_LOG_LEVEL\"] = \"3\"\n",
        "import tensorflow as tf\n",
        "\n",
        "\n",
        "#reading all dcm files into train and text\n",
        "train = sorted(glob(\"pneumothorax/dicom-images-train/*/*/*.dcm\")) #There is an image after 2subfolders . Rather than manually typing the entire path we are using glob to access the image with ease\n",
        "#reading the csv\n",
        "dataset = pd.read_csv(\"pneumothorax/train-rle.csv\", delimiter=\",\")"
      ],
      "execution_count": 5,
      "outputs": []
    },
    {
      "cell_type": "code",
      "metadata": {
        "colab": {
          "base_uri": "https://localhost:8080/",
          "height": 66,
          "referenced_widgets": [
            "df4395d0701a4dc392053f8942e75961",
            "7f11074be1ca421d9e8c839643f5388c",
            "91c5809c971d4e9fa7f016430c977ec4",
            "262f21da18034e20a0ea80aac51b1362",
            "5e8476a5591a4555a795c589d691a7b8",
            "cdbe7afd399e440795692e7475ccad6b",
            "ef94c66cfbd64d9096dccdc648fed49c",
            "111af98a846942a697eb18fdb587d53e"
          ]
        },
        "id": "rj0QE6iorLhQ",
        "outputId": "b2c1e0d0-6577-48a0-c6c3-225cdb9f9a8b"
      },
      "source": [
        "train_df=[]\n",
        "remove=[]\n",
        "for i in tqdm(train):\n",
        "  sample=dicom.dcmread(i) #reading each image\n",
        "  train={}\n",
        "  train[\"UID\"]=sample.SOPInstanceUID \n",
        "  \n",
        "  try: #try and except to avoid throwing an error in case any file is missing\n",
        "    encoded_pixels = dataset[dataset[\"ImageId\"] == train[\"UID\"]].values[0][1] #We are checking wheather each image(from the train) present has been mapped to the csv file given . \n",
        "    train[\"EncodedPixels\"]=encoded_pixels\n",
        "  except:\n",
        "    remove.append(\"pneumothorax/dicom-images-train/\" + sample.StudyInstanceUID + \"/\" + sample.SeriesInstanceUID + \"/\" + sample.SOPInstanceUID + \".dcm\")#if the image details are not present in the csv that means that the file is missing\n",
        "  train[\"path\"] = \"pneumothorax/dicom-images-train/\" + sample.StudyInstanceUID + \"/\" + sample.SeriesInstanceUID + \"/\" + sample.SOPInstanceUID + \".dcm\" #saving the path in csv for further reference\n",
        "  train_df.append(train)\n",
        "patients_train = pd.DataFrame(train_df,columns=[\"EncodedPixels\",\"path\"])\n",
        "\n",
        "patients_train=patients_train.loc[~patients_train['path'].isin(remove)]"
      ],
      "execution_count": 6,
      "outputs": [
        {
          "output_type": "display_data",
          "data": {
            "application/vnd.jupyter.widget-view+json": {
              "model_id": "df4395d0701a4dc392053f8942e75961",
              "version_minor": 0,
              "version_major": 2
            },
            "text/plain": [
              "HBox(children=(FloatProgress(value=0.0, max=10712.0), HTML(value='')))"
            ]
          },
          "metadata": {
            "tags": []
          }
        },
        {
          "output_type": "stream",
          "text": [
            "\n"
          ],
          "name": "stdout"
        }
      ]
    },
    {
      "cell_type": "code",
      "metadata": {
        "colab": {
          "base_uri": "https://localhost:8080/",
          "height": 66,
          "referenced_widgets": [
            "fc0331122fdf42eb8627573b5602fcba",
            "3e55e66764b9402a9358933b8f8d9c4d",
            "a6167fe6324d48ce94a0c64c67cf0c7f",
            "6da821f5fd8840468f0d6c95d23c7c87",
            "a98eb5215fa74efab808a8024d4780e0",
            "01d6c314f0554e988c533b20ca98620f",
            "00ef13d35b07486fb61ac68aac8b5db6",
            "9721c147a9c84d04b9020c8cd57da83b"
          ]
        },
        "id": "AI3Xd_zer_vJ",
        "outputId": "176a0a30-2694-4ee5-cf92-0b670704e180"
      },
      "source": [
        "train_path=[]\n",
        "train_encoded_pixel=[]\n",
        "test_path=[]\n",
        "test_encoded_pixel=[]\n",
        "train_len=len(patients_train)-int(len(patients_train)*0.2)                          #We are dividing the data into train and test\n",
        "test_len=int(len(patients_train)*0.2)\n",
        "count=0\n",
        "\n",
        "for i in tqdm(range(0,len(patients_train))):\n",
        "  if count<=train_len:\n",
        "    train_path.append(list(patients_train['path'].values)[i])\n",
        "    train_encoded_pixel.append(list(patients_train['EncodedPixels'].values)[i])\n",
        "    count=count+1\n",
        "  else:\n",
        "    test_path.append(list(patients_train['path'].values)[i])\n",
        "    test_encoded_pixel.append(list(patients_train['EncodedPixels'].values)[i])\n"
      ],
      "execution_count": 7,
      "outputs": [
        {
          "output_type": "display_data",
          "data": {
            "application/vnd.jupyter.widget-view+json": {
              "model_id": "fc0331122fdf42eb8627573b5602fcba",
              "version_minor": 0,
              "version_major": 2
            },
            "text/plain": [
              "HBox(children=(FloatProgress(value=0.0, max=10675.0), HTML(value='')))"
            ]
          },
          "metadata": {
            "tags": []
          }
        },
        {
          "output_type": "stream",
          "text": [
            "\n"
          ],
          "name": "stdout"
        }
      ]
    },
    {
      "cell_type": "markdown",
      "metadata": {
        "id": "u1JjjQCuYWFL"
      },
      "source": [
        "#Function -1"
      ]
    },
    {
      "cell_type": "code",
      "metadata": {
        "id": "9A1VrO-rtw5Z"
      },
      "source": [
        "#Function-1\n",
        "def final_fun_1(X):\n",
        "  img = tf.io.read_file(X)\n",
        "  image = tfio.image.decode_dicom_image(img, dtype=tf.uint8,color_dim=True,scale='preserve')\n",
        "  image = tf.image.convert_image_dtype(image, tf.float32)#converting the image to tf.float32\n",
        "  image=tf.squeeze(image,[0]) #squeezing the image because the file is of the shape(1,1024,1024,1) and we want (1024,1024,3)\n",
        "  b = tf.constant([1,1,3], tf.int32)\n",
        "  image=tf.tile(image,b)#the image is of the shape (1024,1024,1) to make it (1024,1024,3) I am using tf.tile\n",
        "  image=tf.image.resize(image,size=[256,256])\n",
        "  image=tf.expand_dims(image,axis=0)\n",
        "   #recall\n",
        "  if model.predict(image)>=0.5:\n",
        "    print(\"Pneumothorax has been detected\")\n",
        "    mask=final.predict(image)\n",
        "    mask=(mask>0.5).astype(np.uint8)\n",
        "    plt.figure(figsize=(20,6))\n",
        "    plt.title(\"Mask\")\n",
        "    \n",
        "    return plt.imshow(np.squeeze(mask),cmap='gray')\n",
        "  else:\n",
        "    return \"No Pneumothorax Detected\""
      ],
      "execution_count": 41,
      "outputs": []
    },
    {
      "cell_type": "markdown",
      "metadata": {
        "id": "sdZ0bvYiYZ1f"
      },
      "source": [
        "#Function-2"
      ]
    },
    {
      "cell_type": "code",
      "metadata": {
        "id": "xVoRYfyRRGm_"
      },
      "source": [
        "#Function-2\n",
        "def final_fun_2(X,Y):\n",
        "  img = tf.io.read_file(X)\n",
        "  image = tfio.image.decode_dicom_image(img, dtype=tf.uint8,color_dim=True,scale='preserve')\n",
        "  image = tf.image.convert_image_dtype(image, tf.float32)#converting the image to tf.float32\n",
        "  image=tf.squeeze(image,[0]) #squeezing the image because the file is of the shape(1,1024,1024,1) and we want (1024,1024,3)\n",
        "  b = tf.constant([1,1,3], tf.int32)\n",
        "  image=tf.tile(image,b)#the image is of the shape (1024,1024,1) to make it (1024,1024,3) I am using tf.tile\n",
        "  image=tf.image.resize(image,size=[256,256])\n",
        "  image=tf.expand_dims(image,axis=0)\n",
        "  if Y!=\" -1\":\n",
        "    print(\"Ground truth of Classification is 1(Has Pneumothorax)\")\n",
        "    print('*'*100)\n",
        "  else:\n",
        "    print(\"Ground truth of Classification is 0(Does not have Pneumothorax)\")\n",
        "    print(\"Ground truth of Segmentation -- There is no mask\")\n",
        "    print('*'*100)\n",
        "\n",
        "  if model.predict(image)>=0.5:\n",
        "    print(\"Pneumothorax has been detected\")\n",
        "    mask=final.predict(image)\n",
        "    mask=(mask>0.5).astype(np.uint8)\n",
        "    try:\n",
        "      true_mask=Image.fromarray(mask_functions.rle2mask(Y,1024,1024).T).resize((256,256), resample=Image.BILINEAR) \n",
        "      true_mask=np.array(true_mask)\n",
        "      plt.figure(figsize=(20,6))\n",
        "      plt.subplot(121)\n",
        "      plt.title(\"X-ray image with mask(Ground truth)\")\n",
        "      plt.imshow(np.squeeze(image),cmap='gray')\n",
        "      plt.imshow(np.squeeze(true_mask),cmap='gray',alpha=0.3)\n",
        "      plt.subplot(122)\n",
        "      plt.title(\"X-ray image with mask(Predicted)\")\n",
        "      plt.imshow(np.squeeze(image),cmap='gray')\n",
        "      plt.imshow(np.squeeze(mask),cmap='gray',alpha=0.3)\n",
        "      return plt.show()\n",
        "    except: #if there is no ground truth mask\n",
        "      plt.figure(figsize=(20,6)) \n",
        "      plt.title(\"X-ray image with mask(Predicted)\")\n",
        "      plt.imshow(np.squeeze(image),cmap='gray')\n",
        "      plt.imshow(np.squeeze(mask),cmap='gray',alpha=0.3)\n",
        "      return plt.show()\n",
        "\n",
        "\n"
      ],
      "execution_count": 25,
      "outputs": []
    },
    {
      "cell_type": "markdown",
      "metadata": {
        "id": "N-Apd99eY6ko"
      },
      "source": [
        "#Final Predictions for function 1 and function 2 respectively"
      ]
    },
    {
      "cell_type": "code",
      "metadata": {
        "id": "mjGgotBBZJhT"
      },
      "source": [
        " #Selecting a random value from the test data\n",
        "rand=random.randrange(0,len(test_path))\n",
        "model=load_model('weights-30-0.9705.hdf5')\n",
        "final=tf.keras.models.load_model('/content/drive/My Drive/model_save/weights-12-0.4656.hdf5', custom_objects={'dice_coef':dice_coef})"
      ],
      "execution_count": 38,
      "outputs": []
    },
    {
      "cell_type": "code",
      "metadata": {
        "colab": {
          "base_uri": "https://localhost:8080/",
          "height": 423
        },
        "id": "iqxUT79_u9g9",
        "outputId": "0472c812-9e06-4d11-d74a-85a42212c499"
      },
      "source": [
        "start_time = time.time()\n",
        "final_fun_1(test_path[rand])\n",
        "print(\"--- %s seconds ---\" % (time.time() - start_time))"
      ],
      "execution_count": 43,
      "outputs": [
        {
          "output_type": "stream",
          "text": [
            "Pneumothorax has been detected\n",
            "--- 0.21987628936767578 seconds ---\n"
          ],
          "name": "stdout"
        },
        {
          "output_type": "display_data",
          "data": {
            "image/png": "[encoded data removed]",
            "text/plain": [
              "<Figure size 1440x432 with 1 Axes>"
            ]
          },
          "metadata": {
            "tags": [],
            "needs_background": "light"
          }
        }
      ]
    },
    {
      "cell_type": "code",
      "metadata": {
        "colab": {
          "base_uri": "https://localhost:8080/",
          "height": 457
        },
        "id": "ZEbZIN0xXUrO",
        "outputId": "d22f5054-aeb0-4c03-f378-b140b9042e47"
      },
      "source": [
        "start_time = time.time()\n",
        "final_fun_2(test_path[rand],test_encoded_pixel[rand])\n",
        "print(\"--- %s seconds ---\" % (time.time() - start_time))"
      ],
      "execution_count": 44,
      "outputs": [
        {
          "output_type": "stream",
          "text": [
            "Ground truth of Classification is 1(Has Pneumothorax)\n",
            "****************************************************************************************************\n",
            "Pneumothorax has been detected\n"
          ],
          "name": "stdout"
        },
        {
          "output_type": "display_data",
          "data": {
            "image/png": "[encoded data removed]",
            "text/plain": [
              "<Figure size 1440x432 with 2 Axes>"
            ]
          },
          "metadata": {
            "tags": [],
            "needs_background": "light"
          }
        },
        {
          "output_type": "stream",
          "text": [
            "--- 0.8010809421539307 seconds ---\n"
          ],
          "name": "stdout"
        }
      ]
    },
    {
      "cell_type": "markdown",
      "metadata": {
        "id": "ewJWJrfGY2vs"
      },
      "source": [
        "# Showing output for wrongly classifed point for Function 2"
      ]
    },
    {
      "cell_type": "code",
      "metadata": {
        "colab": {
          "base_uri": "https://localhost:8080/",
          "height": 66,
          "referenced_widgets": [
            "25f61fdcb94c4d16b18b755f441a6340",
            "19b9c6c77f1d44ce99f524e633d59ed6",
            "52d36ced702a42e5a65abdd10bc1cebf",
            "9a7378692d0d4d27a66c15b9a30e4433",
            "717d23b71770494d95e50d7ad0978211",
            "c54dd1fb00f34e49805b7df6c6252410",
            "63de0e5d4c0a434b8d214966a286aea4",
            "f5ffe72eed1941b8b7c2df185e4aa761"
          ]
        },
        "id": "NWzFh53_QvFx",
        "outputId": "6ef16b70-fbec-4ec8-f935-3e70f6bb2792"
      },
      "source": [
        "#get index of wrongly classified point\n",
        "bad_index=[]\n",
        "for i in tqdm(range(0,len(test_path))):\n",
        "  img = tf.io.read_file(test_path[i])\n",
        "  image = tfio.image.decode_dicom_image(img, dtype=tf.uint8,color_dim=True,scale='preserve')\n",
        "  image = tf.image.convert_image_dtype(image, tf.float32)#converting the image to tf.float32\n",
        "  image=tf.squeeze(image,[0]) #squeezing the image because the file is of the shape(1,1024,1024,1) and we want (1024,1024,3)\n",
        "  b = tf.constant([1,1,3], tf.int32)\n",
        "  image=tf.tile(image,b)#the image is of the shape (1024,1024,1) to make it (1024,1024,3) I am using tf.tile\n",
        "  image=tf.image.resize(image,size=[256,256])\n",
        "  image=tf.expand_dims(image,axis=0)\n",
        "  if test_encoded_pixel[i]==\" -1\" and model.predict(image)>=0.5:\n",
        "    bad_index.append(i)\n",
        "    "
      ],
      "execution_count": 30,
      "outputs": [
        {
          "output_type": "display_data",
          "data": {
            "application/vnd.jupyter.widget-view+json": {
              "model_id": "25f61fdcb94c4d16b18b755f441a6340",
              "version_minor": 0,
              "version_major": 2
            },
            "text/plain": [
              "HBox(children=(FloatProgress(value=0.0, max=2134.0), HTML(value='')))"
            ]
          },
          "metadata": {
            "tags": []
          }
        },
        {
          "output_type": "stream",
          "text": [
            "\n"
          ],
          "name": "stdout"
        }
      ]
    },
    {
      "cell_type": "code",
      "metadata": {
        "colab": {
          "base_uri": "https://localhost:8080/",
          "height": 474
        },
        "id": "e6Sd07ksXnMn",
        "outputId": "852b99d4-7d97-473b-f818-fe9452dedadd"
      },
      "source": [
        "#pass point through the function 2 to get the wrong mask\n",
        "#rand=random.randrange(0,len(test_path))\n",
        "start_time = time.time()\n",
        "final_fun_2(test_path[bad_index[rand]],test_encoded_pixel[bad_index[rand]])\n",
        "print(\"--- %s seconds ---\" % (time.time() - start_time))"
      ],
      "execution_count": 35,
      "outputs": [
        {
          "output_type": "stream",
          "text": [
            "Ground truth of Classification is 0(Does not have Pneumothorax)\n",
            "Ground truth of Segmentation -- There is no mask\n",
            "****************************************************************************************************\n",
            "Pneumothorax has been detected\n"
          ],
          "name": "stdout"
        },
        {
          "output_type": "display_data",
          "data": {
            "image/png": "[encoded data removed]",
            "text/plain": [
              "<Figure size 1440x432 with 1 Axes>"
            ]
          },
          "metadata": {
            "tags": [],
            "needs_background": "light"
          }
        },
        {
          "output_type": "stream",
          "text": [
            "--- 0.4603886604309082 seconds ---\n"
          ],
          "name": "stdout"
        }
      ]
    }
  ]
}